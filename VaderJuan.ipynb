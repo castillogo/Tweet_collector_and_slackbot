{
 "cells": [
  {
   "cell_type": "code",
   "execution_count": 1,
   "metadata": {},
   "outputs": [],
   "source": [
    "from vaderSentiment.vaderSentiment import SentimentIntensityAnalyzer"
   ]
  },
  {
   "cell_type": "code",
   "execution_count": 2,
   "metadata": {},
   "outputs": [],
   "source": [
    "tweets = [\"\"\"'@MartinSLewis Do you know where we stand with stag/hen company ‘Last night of freedom’.\n",
    "We have a large group booked\"\"\",\n",
    "\"\"\"@tomGadsby I wish @DonaldTrump had reacted better to corona!\"\"\",\n",
    "\"\"\"Went to see the new Marvel movie last night, the film was amazing\"\"\"]"
   ]
  },
  {
   "cell_type": "code",
   "execution_count": 4,
   "metadata": {},
   "outputs": [],
   "source": [
    "s = SentimentIntensityAnalyzer()"
   ]
  },
  {
   "cell_type": "code",
   "execution_count": 10,
   "metadata": {},
   "outputs": [
    {
     "name": "stdout",
     "output_type": "stream",
     "text": [
      "'@MartinSLewis Do you know where we stand with sta {'neg': 0.0, 'neu': 1.0, 'pos': 0.0, 'compound': 0.0}\n",
      "@tomGadsby I wish @DonaldTrump had reacted better  {'neg': 0.0, 'neu': 0.543, 'pos': 0.457, 'compound': 0.7088}\n",
      "Went to see the new Marvel movie last night, the f {'neg': 0.0, 'neu': 0.625, 'pos': 0.375, 'compound': 0.765}\n"
     ]
    }
   ],
   "source": [
    "for tweet in tweets:\n",
    "    print(tweet[:50], s.polarity_scores(tweet))"
   ]
  },
  {
   "cell_type": "code",
   "execution_count": 7,
   "metadata": {},
   "outputs": [
    {
     "data": {
      "text/plain": [
       "{'neg': 0.0, 'neu': 1.0, 'pos': 0.0, 'compound': 0.0}"
      ]
     },
     "execution_count": 7,
     "metadata": {},
     "output_type": "execute_result"
    }
   ],
   "source": [
    "s.polarity_scores(tweets[0])"
   ]
  },
  {
   "cell_type": "code",
   "execution_count": 8,
   "metadata": {},
   "outputs": [],
   "source": [
    "sentiments = []"
   ]
  },
  {
   "cell_type": "code",
   "execution_count": 9,
   "metadata": {},
   "outputs": [
    {
     "data": {
      "text/plain": [
       "'i love everything and i hate everything'"
      ]
     },
     "execution_count": 9,
     "metadata": {},
     "output_type": "execute_result"
    }
   ],
   "source": [
    "'meh'\n",
    "'i hate everything and i love everything' #slightly negative\n",
    "'i love everything and i hate everything' #slightly positive"
   ]
  },
  {
   "cell_type": "code",
   "execution_count": null,
   "metadata": {},
   "outputs": [],
   "source": [
    "### building blocks\n",
    "*neg, neu, and pos ranges from 0-1-0 means minimum of that emotion, 1 means maximum presence of emotion\n",
    "* compound - ranges between -1 and 1. 0 is fully neutral, 1 is fully positive"
   ]
  }
 ],
 "metadata": {
  "kernelspec": {
   "display_name": "Python 3",
   "language": "python",
   "name": "python3"
  },
  "language_info": {
   "codemirror_mode": {
    "name": "ipython",
    "version": 3
   },
   "file_extension": ".py",
   "mimetype": "text/x-python",
   "name": "python",
   "nbconvert_exporter": "python",
   "pygments_lexer": "ipython3",
   "version": "3.7.4"
  }
 },
 "nbformat": 4,
 "nbformat_minor": 2
}
