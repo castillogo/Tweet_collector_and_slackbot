{
 "cells": [
  {
   "cell_type": "code",
   "execution_count": 1,
   "metadata": {},
   "outputs": [],
   "source": [
    "import pandas as pd\n",
    "df = pd.read_csv('food_reviews_sample.csv')"
   ]
  },
  {
   "cell_type": "code",
   "execution_count": 3,
   "metadata": {},
   "outputs": [],
   "source": [
    "corpus = list(df['text'].values)\n",
    "# list of strings"
   ]
  },
  {
   "cell_type": "markdown",
   "metadata": {},
   "source": [
    "### Naive Approach For Full Text Search\n",
    "- Serial Search\n",
    "- Analogy: Flipping through a dictionary from beginning to end to find a word."
   ]
  },
  {
   "cell_type": "code",
   "execution_count": 5,
   "metadata": {},
   "outputs": [],
   "source": [
    "import re"
   ]
  },
  {
   "cell_type": "code",
   "execution_count": 7,
   "metadata": {},
   "outputs": [],
   "source": [
    "def simple_search(word, corpus:list):\n",
    "    \n",
    "    list_of_docs = []    \n",
    "    for i, doc in enumerate(corpus):      \n",
    "        for w in re.findall(f'[a-z]+', doc.lower()):        \n",
    "            if w == word:              \n",
    "                list_of_docs.append(i)\n",
    "    return list_of_docs"
   ]
  },
  {
   "cell_type": "code",
   "execution_count": 12,
   "metadata": {},
   "outputs": [
    {
     "name": "stdout",
     "output_type": "stream",
     "text": [
      "CPU times: user 299 ms, sys: 6.45 ms, total: 306 ms\n",
      "Wall time: 319 ms\n"
     ]
    }
   ],
   "source": [
    "%time result = simple_search('chocolate', corpus)"
   ]
  },
  {
   "cell_type": "markdown",
   "metadata": {},
   "source": [
    "### Smarter Way: Using an Index\n",
    "- Inverted Index\n",
    "- {'word' : [doc1, doc2, doc3]}"
   ]
  },
  {
   "cell_type": "code",
   "execution_count": 21,
   "metadata": {},
   "outputs": [],
   "source": [
    "def create_index(corpus):\n",
    "    \n",
    "    index = {}\n",
    "    for i, doc in enumerate(corpus):\n",
    "        for w in re.findall(f'[a-z]+', doc.lower()):\n",
    "            if w in index: #if we've already seen the word before\n",
    "                index[w].append(i)\n",
    "            else:\n",
    "                index[w] = [i] \n",
    "    return index"
   ]
  },
  {
   "cell_type": "code",
   "execution_count": 24,
   "metadata": {},
   "outputs": [
    {
     "name": "stdout",
     "output_type": "stream",
     "text": [
      "CPU times: user 495 ms, sys: 15.3 ms, total: 510 ms\n",
      "Wall time: 523 ms\n"
     ]
    }
   ],
   "source": [
    "%time index = create_index(corpus)"
   ]
  },
  {
   "cell_type": "code",
   "execution_count": 26,
   "metadata": {},
   "outputs": [
    {
     "name": "stdout",
     "output_type": "stream",
     "text": [
      "73.8 ns ± 2.4 ns per loop (mean ± std. dev. of 7 runs, 10000000 loops each)\n"
     ]
    }
   ],
   "source": [
    "%timeit result = index['chocolate']"
   ]
  },
  {
   "cell_type": "markdown",
   "metadata": {},
   "source": [
    "- Naive Search: ~300ms\n",
    "- Indexed Search: ~70 ns"
   ]
  },
  {
   "cell_type": "markdown",
   "metadata": {},
   "source": [
    "Limitations:\n",
    "- Build the index frequently. Maybe not so good for dynamic data.\n",
    "- No concept of natural language (e.g. lemmatization, stop words)\n",
    "- We cant do phrase search / multiple words. \n",
    "- Typos (Fuzzy searching)\n",
    "- Ranking?!"
   ]
  },
  {
   "cell_type": "markdown",
   "metadata": {},
   "source": [
    "---\n",
    "## Full Text Search in PostGres\n",
    "---"
   ]
  },
  {
   "cell_type": "markdown",
   "metadata": {},
   "source": [
    "FTS representation in PostGres:\n",
    "- We have a datatype called `tsvector`, which basically is pre-processed and stripped down to a basic form (e.g. lemmatized)\n",
    "\n",
    "- We then have `tsquery`, which is a search query that is normalized into lexemes / lemmas.\n",
    "\n",
    "- In order to match a query to a vector, we have to use the strange `@@` syntax."
   ]
  },
  {
   "cell_type": "markdown",
   "metadata": {},
   "source": [
    "### Example Queries, Part 1 (on individual strings first, not the data set yet):\n",
    "\n",
    "**(1) Basic Matching**: `SELECT to_tsvector('this dish was horrible') @@ to_tsquery('horrible');`\n",
    "- What's nice is that it's case insensitive! So it automatically does lowercase.\n",
    "\n",
    "**(2) Multiple words**: `SELECT to_tsvector('this dish was horrible') @@ plainto_tsquery('horrible dish');`\n",
    "- *plainto_tsquery* transforms unformatted text querytext to tsquery. The text is parsed and normalized much as for to_tsvector, then the & (AND) Boolean operator is inserted between surviving words.\n",
    "\n",
    "**(3) Under the Hood**: `SELECT to_tsvector('this dish was horrible');`\n",
    "- Note that it returns the tokenized sentence! Even does lemmatiziation for us (e.g. horrible -> horribl)\n",
    "\n",
    "**(4) Interesting case**: `SELECT to_tsvector('A nice day for a car ride') @@ plainto_tsquery('I am riding a bike'); `\n",
    "- Returns False! Interesting, because it contains extra information in bike and therefore does not match. Bike isn’t included therefore the document isn’t relevant. But **I am riding** DOES work!"
   ]
  },
  {
   "cell_type": "markdown",
   "metadata": {},
   "source": [
    "---"
   ]
  },
  {
   "cell_type": "markdown",
   "metadata": {},
   "source": [
    "### Example Queries, Part 2 (on the food review data set!):\n",
    "\n",
    "**(5) Searching a column**: `SELECT id, text FROM food_reviews WHERE to_tsvector(text) @@ to_tsquery('horrible');`\n",
    "- Works, but it's slow (took ~2.5 seconds to return all results)\n",
    "\n",
    "**(6) Another**: `SELECT id,text FROM food_reviews \n",
    "WHERE to_tsvector(text) @@ plainto_tsquery('dry pasta');`\n",
    "\n",
    "**(7) Concatenating Multiple Cols**: `SELECT summary,text FROM food_reviews \n",
    "WHERE to_tsvector(summary || ' ' || text) @@ plainto_tsquery('addictive flavor');`\n",
    "\n",
    "**(8) Enforce Word Order**: `SELECT text FROM food_reviews\n",
    "WHERE to_tsvector(text) @@ to_tsquery('addictive <-> flavor');`\n",
    "- Only return results where \"addictive\" is immediately followed by \"flavor\""
   ]
  },
  {
   "cell_type": "markdown",
   "metadata": {},
   "source": [
    "---"
   ]
  },
  {
   "cell_type": "markdown",
   "metadata": {},
   "source": [
    "### Example Queries, Part 3 (on the food review data set!):\n",
    "- **Indexing and Ranking!**"
   ]
  },
  {
   "cell_type": "markdown",
   "metadata": {},
   "source": [
    "**(9) Create an Inverted Index**:"
   ]
  },
  {
   "cell_type": "raw",
   "metadata": {},
   "source": [
    "CREATE INDEX document_idx\n",
    "ON food_reviews\n",
    "USING GIN\n",
    "(to_tsvector('english', summary || ' ' || coalesce(text, '')));"
   ]
  },
  {
   "cell_type": "markdown",
   "metadata": {},
   "source": [
    "- The coalesce function will default to `' '` (empty string) if the text contains NA values.\n",
    "- The creation of the index took about 6 seconds!!"
   ]
  },
  {
   "cell_type": "markdown",
   "metadata": {},
   "source": [
    "**(10) Query on the Index**:"
   ]
  },
  {
   "cell_type": "raw",
   "metadata": {},
   "source": [
    "SELECT * FROM food_reviews\n",
    "WHERE to_tsvector('english', summary || ' ' || coalesce(text, '')) @@ to_tsquery('horrible');"
   ]
  },
  {
   "cell_type": "markdown",
   "metadata": {},
   "source": [
    "- I'm sure there's a better way to give that whole index a nickname but I didn't have time to figure it out.\n",
    "- The query took about **0.7 milliseconds!!**\n",
    "    - If you run `EXPLAIN ANALYZE` before the query."
   ]
  },
  {
   "cell_type": "markdown",
   "metadata": {},
   "source": [
    "**(11) Ranking the results**:\n",
    "- Disclaimer: I don't exactly know the mechanics of the algorithm behind how it's ranking the results, but from skimming the PostGres documention, it looks like it's fairly well-explained."
   ]
  },
  {
   "cell_type": "raw",
   "metadata": {},
   "source": [
    "SELECT summary, text, \n",
    "ts_rank(to_tsvector(summary || ' ' || coalesce(text, '')), plainto_tsquery('addicting flavor')) AS rank\n",
    "FROM food_reviews\n",
    "ORDER BY rank DESC LIMIT 5;"
   ]
  },
  {
   "cell_type": "markdown",
   "metadata": {},
   "source": [
    "---"
   ]
  },
  {
   "cell_type": "markdown",
   "metadata": {},
   "source": [
    "### Other cool things that I found in PostGres FTS (haven't run the code myself though):\n",
    "- `pg_trgm` (trigram indexing operations)\n",
    "\n",
    "- unaccent (removes accents, umlauts, etc.)\n",
    "\n",
    "- Fuzzy String matching\n",
    "    - e.g. `SELECT name FROM users WHERE levenshtein(‘Stephen’, name) <=2;`\n",
    "    \n",
    "    - Uses levenshtein distances to return words that are similar / maybe had typos.\n",
    "    \n",
    "- PostGres support JSON objects, and there's even aquerying language for JSON (JsQuery) built directly into PostGres."
   ]
  },
  {
   "cell_type": "code",
   "execution_count": null,
   "metadata": {},
   "outputs": [],
   "source": []
  }
 ],
 "metadata": {
  "kernelspec": {
   "display_name": "Python 3",
   "language": "python",
   "name": "python3"
  },
  "language_info": {
   "codemirror_mode": {
    "name": "ipython",
    "version": 3
   },
   "file_extension": ".py",
   "mimetype": "text/x-python",
   "name": "python",
   "nbconvert_exporter": "python",
   "pygments_lexer": "ipython3",
   "version": "3.7.4"
  }
 },
 "nbformat": 4,
 "nbformat_minor": 2
}
